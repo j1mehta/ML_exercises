{
 "cells": [
  {
   "cell_type": "code",
   "execution_count": null,
   "metadata": {
    "collapsed": false,
    "deletable": true,
    "editable": true
   },
   "outputs": [],
   "source": [
    "# https://prateekvjoshi.com/2016/04/19/how-to-programmatically-create-a-deep-neural-network-in-python-caffe",
    "import mxnet as mx\n",
    "import logging\n",
    "\n",
    "logging.basicConfig(level=logging.INFO)"
   ]
  },
  {
   "cell_type": "code",
   "execution_count": null,
   "metadata": {
    "collapsed": true,
    "deletable": true,
    "editable": true
   },
   "outputs": [],
   "source": [
    "data = mx.sym.Variable('data')\n",
    "data = mx.sym.Flatten(data=data)\n",
    "fc1  = mx.sym.FullyConnected(data=data, name='fc1', num_hidden=128 , attr={'lr_mult':'10'})\n",
    "act1 = mx.sym.Activation(data=fc1, name='relu1', act_type=\"relu\")\n",
    "fc2  = mx.sym.FullyConnected(data=act1, name='fc2', num_hidden = 64, attr={'lr_mult':'10'})\n",
    "act2 = mx.sym.Activation(data=fc2, name='relu2', act_type=\"relu\")\n",
    "fc3  = mx.sym.FullyConnected(data=act2, name='fc3', num_hidden=10)\n",
    "mlp  = mx.sym.SoftmaxOutput(data=fc3, name='softmax')\n",
    "\n",
    "# mx.viz.plot_network(mlp, shape={'data':(100,200)})\n",
    "mod = mx.mod.Module(mlp)"
   ]
  },
  {
   "cell_type": "code",
   "execution_count": null,
   "metadata": {
    "collapsed": false,
    "deletable": true,
    "editable": true,
    "scrolled": false
   },
   "outputs": [],
   "source": [
    "train_iter = mx.io.MNISTIter(shuffle=True)\n",
    "val_iter = mx.io.MNISTIter(image=\"./t10k-images-idx3-ubyte\", label=\"./t10k-labels-idx1-ubyte\")\n",
    "mod.bind(data_shapes=train_iter.provide_data, label_shapes=train_iter.provide_label)"
   ]
  },
  {
   "cell_type": "code",
   "execution_count": null,
   "metadata": {
    "collapsed": false,
    "deletable": true,
    "editable": true
   },
   "outputs": [],
   "source": [
    "# mod.init_params(initializer=mx.init.Xavier(magnitude=2.))\n",
    "# mod.init_optimizer(optimizer_params=(('learning_rate', 0.1), ))"
   ]
  },
  {
   "cell_type": "code",
   "execution_count": null,
   "metadata": {
    "collapsed": false,
    "deletable": true,
    "editable": true
   },
   "outputs": [],
   "source": [
    " mod.fit(train_iter, num_epoch=10)"
   ]
  },
  {
   "cell_type": "code",
   "execution_count": null,
   "metadata": {
    "collapsed": false,
    "deletable": true,
    "editable": true
   },
   "outputs": [],
   "source": [
    "print(fc3.attr_dict())"
   ]
  },
  {
   "cell_type": "code",
   "execution_count": null,
   "metadata": {
    "collapsed": true,
    "deletable": true,
    "editable": true
   },
   "outputs": [],
   "source": [
    "# net = mx.sym.Variable('data')\n",
    "# W=mx.sym.Variable(name='custom-weight', attr={'lr_mult':'0.01'})\n",
    "# b=mx.sym.Variable(name='custom-bias')\n",
    "# # net=mx.sym.FullyConnected(data=net,name='fc1',num_hidden=64, weight=W, bias=b)\n",
    "# spec=mx.sym.FullyConnected(data=net,name='fc1',num_hidden=64, attr={'lr_mult':'0.01', 'wd_mult':'0.01'})\n",
    "# # net = mx.sym.FullyConnected(data=net, name='fc1', num_hidden=128)\n",
    "# # spec=mx.symbol.FullyConnected(data=net,name='fc1',num_hidden=64, attr={'weight_lr_mult':'0.1', 'bias_lr_mult':'1.0'})\n",
    "# net = mx.sym.Activation(data=spec, name='relu1', act_type=\"relu\")\n",
    "# net = mx.sym.FullyConnected(data=net, name='fc2', num_hidden=10)\n",
    "# net = mx.sym.SoftmaxOutput(data=net, name='out')\n",
    "\n",
    "# mx.viz.plot_network(net, shape={'data':(100,200)})"
   ]
  },
  {
   "cell_type": "code",
   "execution_count": null,
   "metadata": {
    "collapsed": false,
    "deletable": true,
    "editable": true
   },
   "outputs": [],
   "source": [
    "data = mx.sym.Variable('data')"
   ]
  },
  {
   "cell_type": "code",
   "execution_count": null,
   "metadata": {
    "collapsed": false,
    "deletable": true,
    "editable": true
   },
   "outputs": [],
   "source": [
    "# def tracefunc(frame, event, arg, indent=[0]):\n",
    "#       if event == \"call\":\n",
    "#           indent[0] += 2\n",
    "#           print \"-\" * indent[0] + \"> call function\", frame.f_code.co_name\n",
    "#       elif event == \"return\":\n",
    "#           print \"<\" + \"-\" * indent[0], \"exit function\", frame.f_code.co_name\n",
    "#           indent[0] -= 2\n",
    "#       return tracefunc\n",
    "\n",
    "# import sys\n",
    "# sys.settrace(tracefunc)\n",
    "W=mx.sym.Variable(name='custom-weight', attr={'lr_mult':'1', 'wd_mult':'1'})\n",
    "b=mx.sym.Variable(name='custom-bias', attr={'lr_mult':'1', 'wd_mult':'1'})\n",
    "conv1 = mx.symbol.Convolution(data=data, kernel=(5,5), num_filter=20,weight=W, bias=b)"
   ]
  },
  {
   "cell_type": "code",
   "execution_count": null,
   "metadata": {
    "collapsed": false,
    "deletable": true,
    "editable": true
   },
   "outputs": [],
   "source": [
    "\n"
   ]
  },
  {
   "cell_type": "code",
   "execution_count": null,
   "metadata": {
    "collapsed": false,
    "deletable": true,
    "editable": true
   },
   "outputs": [],
   "source": [
    "print(conv1.get_attr)"
   ]
  },
  {
   "cell_type": "code",
   "execution_count": null,
   "metadata": {
    "collapsed": true,
    "deletable": true,
    "editable": true
   },
   "outputs": [],
   "source": []
  }
 ],
 "metadata": {
  "kernelspec": {
   "display_name": "Python 2",
   "language": "python",
   "name": "python2"
  },
  "language_info": {
   "codemirror_mode": {
    "name": "ipython",
    "version": 2
   },
   "file_extension": ".py",
   "mimetype": "text/x-python",
   "name": "python",
   "nbconvert_exporter": "python",
   "pygments_lexer": "ipython2",
   "version": "2.7.6"
  }
 },
 "nbformat": 4,
 "nbformat_minor": 2
}
